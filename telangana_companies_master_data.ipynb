{
 "cells": [
  {
   "cell_type": "code",
   "execution_count": 1,
   "metadata": {
    "collapsed": true,
    "run_control": {
     "frozen": false,
     "read_only": false
    }
   },
   "outputs": [],
   "source": [
    "library(data.world)\n",
    "library(data.table)"
   ]
  },
  {
   "cell_type": "code",
   "execution_count": 2,
   "metadata": {
    "run_control": {
     "frozen": false,
     "read_only": false
    }
   },
   "outputs": [],
   "source": [
    "masterData <- fread(\"company_master_data_upto_Mar_2015_Telangana.csv\")"
   ]
  },
  {
   "cell_type": "code",
   "execution_count": 3,
   "metadata": {
    "run_control": {
     "frozen": false,
     "read_only": false
    }
   },
   "outputs": [
    {
     "data": {
      "text/html": [
       "<ol class=list-inline>\n",
       "\t<li>77040</li>\n",
       "\t<li>13</li>\n",
       "</ol>\n"
      ],
      "text/latex": [
       "\\begin{enumerate*}\n",
       "\\item 77040\n",
       "\\item 13\n",
       "\\end{enumerate*}\n"
      ],
      "text/markdown": [
       "1. 77040\n",
       "2. 13\n",
       "\n",
       "\n"
      ],
      "text/plain": [
       "[1] 77040    13"
      ]
     },
     "metadata": {},
     "output_type": "display_data"
    },
    {
     "data": {
      "text/html": [
       "<table>\n",
       "<thead><tr><th scope=col>CORPORATE_IDENTIFICATION_NUMBER</th><th scope=col>DATE_OF_REGISTRATION</th><th scope=col>COMPANY_NAME</th><th scope=col>COMPANY_STATUS</th><th scope=col>COMPANY_CLASS</th><th scope=col>COMPANY_CATEGORY</th><th scope=col> AUTHORIZED_CAPITAL </th><th scope=col> PAIDUP_CAPITAL </th><th scope=col>REGISTERED_STATE</th><th scope=col>REGISTRAR_OF_COMPANIES</th><th scope=col>PRINCIPAL_BUSINESS_ACTIVITY</th><th scope=col>REGISTERED_OFFICE_ADDRESS</th><th scope=col>SUB_CATEGORY</th></tr></thead>\n",
       "<tbody>\n",
       "\t<tr><td>L01110TG1994PLC018562                                                                                                   </td><td>19-10-1994                                                                                                              </td><td>ASIAN FLORA LIMITED                                                                                                     </td><td>ACTIVE                                                                                                                  </td><td>Public                                                                                                                  </td><td>Company Limited by Shares                                                                                               </td><td>67,500,000.00                                                                                                           </td><td>38,809,000.00                                                                                                           </td><td>Telangana                                                                                                               </td><td>RoC-Hyderabad                                                                                                           </td><td>Agriculture and Allied Activities                                                                                       </td><td>H.No 7-180/4/2,Kamalanagar colony Kapra, ECIL X Roads   Hyderabad Telangana INDIA 500062                                </td><td>Indian Non-Government Company                                                                                           </td></tr>\n",
       "\t<tr><td>L01112TG1997PLC026899                                                                                                   </td><td>16-04-1997                                                                                                              </td><td>JAGADISH EDIBLE OIL REFINERY LTD                                                                                        </td><td>DORMANT                                                                                                                 </td><td>Public                                                                                                                  </td><td>Company Limited by Shares                                                                                               </td><td>17,000,000.00                                                                                                           </td><td>7,000.00                                                                                                                </td><td>Telangana                                                                                                               </td><td>RoC-Hyderabad                                                                                                           </td><td>Agriculture and Allied Activities                                                                                       </td><td>12-45, SHAMSHABADRANGA REDDY DIST A.P.   A.P. Telangana INDIA                                                           </td><td>Indian Non-Government Company                                                                                           </td></tr>\n",
       "\t<tr><td>L01119TG1989PLC010601                                                                                                   </td><td>24-10-1989                                                                                                              </td><td>REGENT AGRO PRODUCTS LTD                                                                                                </td><td>ACTIVE                                                                                                                  </td><td>Public                                                                                                                  </td><td>Company Limited by Shares                                                                                               </td><td>150,000,000.00                                                                                                          </td><td>112,999,000.00                                                                                                          </td><td>Telangana                                                                                                               </td><td>RoC-Hyderabad                                                                                                           </td><td>Agriculture and Allied Activities                                                                                       </td><td>N N HOUSE, CHIRAG ALI LANEHYDERABAD A.P.   A.P. Telangana INDIA 500001                                                  </td><td>Indian Non-Government Company                                                                                           </td></tr>\n",
       "\t<tr><td>L01119TG1990PLC011554                                                                                                   </td><td>6-08-1990                                                                                                               </td><td>NATURITE AGRO PRODUCTS LIMITED                                                                                          </td><td>ACTIVE                                                                                                                  </td><td>Public                                                                                                                  </td><td>Company Limited by Shares                                                                                               </td><td>60,000,000.00                                                                                                           </td><td>52,960,000.00                                                                                                           </td><td>Telangana                                                                                                               </td><td>RoC-Hyderabad                                                                                                           </td><td>Agriculture and Allied Activities                                                                                       </td><td>Sy.No. 711-713, Lalgadi Malakpet (V),   Shamirpet Telangana INDIA 500078                                                </td><td>Indian Non-Government Company                                                                                           </td></tr>\n",
       "\t<tr><td>L01119TG1992PLC014651                                                                                                   </td><td>7-08-1992                                                                                                               </td><td>FARMTEK AGRO EXPORTS LTD.                                                                                               </td><td>ACTIVE                                                                                                                  </td><td>Public                                                                                                                  </td><td>Company Limited by Shares                                                                                               </td><td>70,000,000.00                                                                                                           </td><td>48,750,750.00                                                                                                           </td><td>Telangana                                                                                                               </td><td>RoC-Hyderabad                                                                                                           </td><td>Agriculture and Allied Activities                                                                                       </td><td>H.NO.8-3-898/20/1, FLAT NO.101 N.R. TOWERS, NAGARJUNA NAGAR COLONY, AMEERPET   HYDERABAD Telangana INDIA 500073         </td><td>Indian Non-Government Company                                                                                           </td></tr>\n",
       "\t<tr><td>L01119TG1992PLC082816                                                                                                   </td><td>24-11-1992                                                                                                              </td><td>OMEGA AG SEEDS PUNJAB LIMITED                                                                                           </td><td>ACTIVE                                                                                                                  </td><td>Public                                                                                                                  </td><td>Company Limited by Shares                                                                                               </td><td>250,000,000.00                                                                                                          </td><td>79,040,000.00                                                                                                           </td><td>Telangana                                                                                                               </td><td>RoC-Hyderabad                                                                                                           </td><td>Agriculture and Allied Activities                                                                                       </td><td>6-3-1099/1/2/3, Flat No. 203,Bhavya's Varun Sargam Villa, Somajiguda, Raj Bhavan Road   Hyderabad Telangana INDIA 500082</td><td>Indian Non-Government Company                                                                                           </td></tr>\n",
       "</tbody>\n",
       "</table>\n"
      ],
      "text/latex": [
       "\\begin{tabular}{r|lllllllllllll}\n",
       " CORPORATE\\_IDENTIFICATION\\_NUMBER & DATE\\_OF\\_REGISTRATION & COMPANY\\_NAME & COMPANY\\_STATUS & COMPANY\\_CLASS & COMPANY\\_CATEGORY &  AUTHORIZED\\_CAPITAL  &  PAIDUP\\_CAPITAL  & REGISTERED\\_STATE & REGISTRAR\\_OF\\_COMPANIES & PRINCIPAL\\_BUSINESS\\_ACTIVITY & REGISTERED\\_OFFICE\\_ADDRESS & SUB\\_CATEGORY\\\\\n",
       "\\hline\n",
       "\t L01110TG1994PLC018562                                                                                                    & 19-10-1994                                                                                                               & ASIAN FLORA LIMITED                                                                                                      & ACTIVE                                                                                                                   & Public                                                                                                                   & Company Limited by Shares                                                                                                & 67,500,000.00                                                                                                            & 38,809,000.00                                                                                                            & Telangana                                                                                                                & RoC-Hyderabad                                                                                                            & Agriculture and Allied Activities                                                                                        & H.No 7-180/4/2,Kamalanagar colony Kapra, ECIL X Roads   Hyderabad Telangana INDIA 500062                                 & Indian Non-Government Company                                                                                           \\\\\n",
       "\t L01112TG1997PLC026899                                                                                                    & 16-04-1997                                                                                                               & JAGADISH EDIBLE OIL REFINERY LTD                                                                                         & DORMANT                                                                                                                  & Public                                                                                                                   & Company Limited by Shares                                                                                                & 17,000,000.00                                                                                                            & 7,000.00                                                                                                                 & Telangana                                                                                                                & RoC-Hyderabad                                                                                                            & Agriculture and Allied Activities                                                                                        & 12-45, SHAMSHABADRANGA REDDY DIST A.P.   A.P. Telangana INDIA                                                            & Indian Non-Government Company                                                                                           \\\\\n",
       "\t L01119TG1989PLC010601                                                                                                    & 24-10-1989                                                                                                               & REGENT AGRO PRODUCTS LTD                                                                                                 & ACTIVE                                                                                                                   & Public                                                                                                                   & Company Limited by Shares                                                                                                & 150,000,000.00                                                                                                           & 112,999,000.00                                                                                                           & Telangana                                                                                                                & RoC-Hyderabad                                                                                                            & Agriculture and Allied Activities                                                                                        & N N HOUSE, CHIRAG ALI LANEHYDERABAD A.P.   A.P. Telangana INDIA 500001                                                   & Indian Non-Government Company                                                                                           \\\\\n",
       "\t L01119TG1990PLC011554                                                                                                    & 6-08-1990                                                                                                                & NATURITE AGRO PRODUCTS LIMITED                                                                                           & ACTIVE                                                                                                                   & Public                                                                                                                   & Company Limited by Shares                                                                                                & 60,000,000.00                                                                                                            & 52,960,000.00                                                                                                            & Telangana                                                                                                                & RoC-Hyderabad                                                                                                            & Agriculture and Allied Activities                                                                                        & Sy.No. 711-713, Lalgadi Malakpet (V),   Shamirpet Telangana INDIA 500078                                                 & Indian Non-Government Company                                                                                           \\\\\n",
       "\t L01119TG1992PLC014651                                                                                                    & 7-08-1992                                                                                                                & FARMTEK AGRO EXPORTS LTD.                                                                                                & ACTIVE                                                                                                                   & Public                                                                                                                   & Company Limited by Shares                                                                                                & 70,000,000.00                                                                                                            & 48,750,750.00                                                                                                            & Telangana                                                                                                                & RoC-Hyderabad                                                                                                            & Agriculture and Allied Activities                                                                                        & H.NO.8-3-898/20/1, FLAT NO.101 N.R. TOWERS, NAGARJUNA NAGAR COLONY, AMEERPET   HYDERABAD Telangana INDIA 500073          & Indian Non-Government Company                                                                                           \\\\\n",
       "\t L01119TG1992PLC082816                                                                                                    & 24-11-1992                                                                                                               & OMEGA AG SEEDS PUNJAB LIMITED                                                                                            & ACTIVE                                                                                                                   & Public                                                                                                                   & Company Limited by Shares                                                                                                & 250,000,000.00                                                                                                           & 79,040,000.00                                                                                                            & Telangana                                                                                                                & RoC-Hyderabad                                                                                                            & Agriculture and Allied Activities                                                                                        & 6-3-1099/1/2/3, Flat No. 203,Bhavya's Varun Sargam Villa, Somajiguda, Raj Bhavan Road   Hyderabad Telangana INDIA 500082 & Indian Non-Government Company                                                                                           \\\\\n",
       "\\end{tabular}\n"
      ],
      "text/markdown": [
       "\n",
       "CORPORATE_IDENTIFICATION_NUMBER | DATE_OF_REGISTRATION | COMPANY_NAME | COMPANY_STATUS | COMPANY_CLASS | COMPANY_CATEGORY |  AUTHORIZED_CAPITAL  |  PAIDUP_CAPITAL  | REGISTERED_STATE | REGISTRAR_OF_COMPANIES | PRINCIPAL_BUSINESS_ACTIVITY | REGISTERED_OFFICE_ADDRESS | SUB_CATEGORY | \n",
       "|---|---|---|---|---|---|\n",
       "| L01110TG1994PLC018562                                                                                                    | 19-10-1994                                                                                                               | ASIAN FLORA LIMITED                                                                                                      | ACTIVE                                                                                                                   | Public                                                                                                                   | Company Limited by Shares                                                                                                | 67,500,000.00                                                                                                            | 38,809,000.00                                                                                                            | Telangana                                                                                                                | RoC-Hyderabad                                                                                                            | Agriculture and Allied Activities                                                                                        | H.No 7-180/4/2,Kamalanagar colony Kapra, ECIL X Roads   Hyderabad Telangana INDIA 500062                                 | Indian Non-Government Company                                                                                            | \n",
       "| L01112TG1997PLC026899                                                                                                    | 16-04-1997                                                                                                               | JAGADISH EDIBLE OIL REFINERY LTD                                                                                         | DORMANT                                                                                                                  | Public                                                                                                                   | Company Limited by Shares                                                                                                | 17,000,000.00                                                                                                            | 7,000.00                                                                                                                 | Telangana                                                                                                                | RoC-Hyderabad                                                                                                            | Agriculture and Allied Activities                                                                                        | 12-45, SHAMSHABADRANGA REDDY DIST A.P.   A.P. Telangana INDIA                                                            | Indian Non-Government Company                                                                                            | \n",
       "| L01119TG1989PLC010601                                                                                                    | 24-10-1989                                                                                                               | REGENT AGRO PRODUCTS LTD                                                                                                 | ACTIVE                                                                                                                   | Public                                                                                                                   | Company Limited by Shares                                                                                                | 150,000,000.00                                                                                                           | 112,999,000.00                                                                                                           | Telangana                                                                                                                | RoC-Hyderabad                                                                                                            | Agriculture and Allied Activities                                                                                        | N N HOUSE, CHIRAG ALI LANEHYDERABAD A.P.   A.P. Telangana INDIA 500001                                                   | Indian Non-Government Company                                                                                            | \n",
       "| L01119TG1990PLC011554                                                                                                    | 6-08-1990                                                                                                                | NATURITE AGRO PRODUCTS LIMITED                                                                                           | ACTIVE                                                                                                                   | Public                                                                                                                   | Company Limited by Shares                                                                                                | 60,000,000.00                                                                                                            | 52,960,000.00                                                                                                            | Telangana                                                                                                                | RoC-Hyderabad                                                                                                            | Agriculture and Allied Activities                                                                                        | Sy.No. 711-713, Lalgadi Malakpet (V),   Shamirpet Telangana INDIA 500078                                                 | Indian Non-Government Company                                                                                            | \n",
       "| L01119TG1992PLC014651                                                                                                    | 7-08-1992                                                                                                                | FARMTEK AGRO EXPORTS LTD.                                                                                                | ACTIVE                                                                                                                   | Public                                                                                                                   | Company Limited by Shares                                                                                                | 70,000,000.00                                                                                                            | 48,750,750.00                                                                                                            | Telangana                                                                                                                | RoC-Hyderabad                                                                                                            | Agriculture and Allied Activities                                                                                        | H.NO.8-3-898/20/1, FLAT NO.101 N.R. TOWERS, NAGARJUNA NAGAR COLONY, AMEERPET   HYDERABAD Telangana INDIA 500073          | Indian Non-Government Company                                                                                            | \n",
       "| L01119TG1992PLC082816                                                                                                    | 24-11-1992                                                                                                               | OMEGA AG SEEDS PUNJAB LIMITED                                                                                            | ACTIVE                                                                                                                   | Public                                                                                                                   | Company Limited by Shares                                                                                                | 250,000,000.00                                                                                                           | 79,040,000.00                                                                                                            | Telangana                                                                                                                | RoC-Hyderabad                                                                                                            | Agriculture and Allied Activities                                                                                        | 6-3-1099/1/2/3, Flat No. 203,Bhavya's Varun Sargam Villa, Somajiguda, Raj Bhavan Road   Hyderabad Telangana INDIA 500082 | Indian Non-Government Company                                                                                            | \n",
       "\n",
       "\n"
      ],
      "text/plain": [
       "  CORPORATE_IDENTIFICATION_NUMBER DATE_OF_REGISTRATION\n",
       "1 L01110TG1994PLC018562           19-10-1994          \n",
       "2 L01112TG1997PLC026899           16-04-1997          \n",
       "3 L01119TG1989PLC010601           24-10-1989          \n",
       "4 L01119TG1990PLC011554           6-08-1990           \n",
       "5 L01119TG1992PLC014651           7-08-1992           \n",
       "6 L01119TG1992PLC082816           24-11-1992          \n",
       "  COMPANY_NAME                     COMPANY_STATUS COMPANY_CLASS\n",
       "1 ASIAN FLORA LIMITED              ACTIVE         Public       \n",
       "2 JAGADISH EDIBLE OIL REFINERY LTD DORMANT        Public       \n",
       "3 REGENT AGRO PRODUCTS LTD         ACTIVE         Public       \n",
       "4 NATURITE AGRO PRODUCTS LIMITED   ACTIVE         Public       \n",
       "5 FARMTEK AGRO EXPORTS LTD.        ACTIVE         Public       \n",
       "6 OMEGA AG SEEDS PUNJAB LIMITED    ACTIVE         Public       \n",
       "  COMPANY_CATEGORY           AUTHORIZED_CAPITAL   PAIDUP_CAPITAL \n",
       "1 Company Limited by Shares 67,500,000.00        38,809,000.00   \n",
       "2 Company Limited by Shares 17,000,000.00        7,000.00        \n",
       "3 Company Limited by Shares 150,000,000.00       112,999,000.00  \n",
       "4 Company Limited by Shares 60,000,000.00        52,960,000.00   \n",
       "5 Company Limited by Shares 70,000,000.00        48,750,750.00   \n",
       "6 Company Limited by Shares 250,000,000.00       79,040,000.00   \n",
       "  REGISTERED_STATE REGISTRAR_OF_COMPANIES PRINCIPAL_BUSINESS_ACTIVITY      \n",
       "1 Telangana        RoC-Hyderabad          Agriculture and Allied Activities\n",
       "2 Telangana        RoC-Hyderabad          Agriculture and Allied Activities\n",
       "3 Telangana        RoC-Hyderabad          Agriculture and Allied Activities\n",
       "4 Telangana        RoC-Hyderabad          Agriculture and Allied Activities\n",
       "5 Telangana        RoC-Hyderabad          Agriculture and Allied Activities\n",
       "6 Telangana        RoC-Hyderabad          Agriculture and Allied Activities\n",
       "  REGISTERED_OFFICE_ADDRESS                                                                                               \n",
       "1 H.No 7-180/4/2,Kamalanagar colony Kapra, ECIL X Roads   Hyderabad Telangana INDIA 500062                                \n",
       "2 12-45, SHAMSHABADRANGA REDDY DIST A.P.   A.P. Telangana INDIA                                                           \n",
       "3 N N HOUSE, CHIRAG ALI LANEHYDERABAD A.P.   A.P. Telangana INDIA 500001                                                  \n",
       "4 Sy.No. 711-713, Lalgadi Malakpet (V),   Shamirpet Telangana INDIA 500078                                                \n",
       "5 H.NO.8-3-898/20/1, FLAT NO.101 N.R. TOWERS, NAGARJUNA NAGAR COLONY, AMEERPET   HYDERABAD Telangana INDIA 500073         \n",
       "6 6-3-1099/1/2/3, Flat No. 203,Bhavya's Varun Sargam Villa, Somajiguda, Raj Bhavan Road   Hyderabad Telangana INDIA 500082\n",
       "  SUB_CATEGORY                 \n",
       "1 Indian Non-Government Company\n",
       "2 Indian Non-Government Company\n",
       "3 Indian Non-Government Company\n",
       "4 Indian Non-Government Company\n",
       "5 Indian Non-Government Company\n",
       "6 Indian Non-Government Company"
      ]
     },
     "metadata": {},
     "output_type": "display_data"
    }
   ],
   "source": [
    "dim(masterData)\n",
    "head(masterData)"
   ]
  },
  {
   "cell_type": "code",
   "execution_count": 4,
   "metadata": {},
   "outputs": [
    {
     "name": "stdout",
     "output_type": "stream",
     "text": [
      "Classes 'data.table' and 'data.frame':\t77040 obs. of  13 variables:\n",
      " $ CORPORATE_IDENTIFICATION_NUMBER: chr  \"L01110TG1994PLC018562\" \"L01112TG1997PLC026899\" \"L01119TG1989PLC010601\" \"L01119TG1990PLC011554\" ...\n",
      " $ DATE_OF_REGISTRATION           : chr  \"19-10-1994\" \"16-04-1997\" \"24-10-1989\" \"6-08-1990\" ...\n",
      " $ COMPANY_NAME                   : chr  \"ASIAN FLORA LIMITED\" \"JAGADISH EDIBLE OIL REFINERY LTD\" \"REGENT AGRO PRODUCTS LTD\" \"NATURITE AGRO PRODUCTS LIMITED\" ...\n",
      " $ COMPANY_STATUS                 : chr  \"ACTIVE\" \"DORMANT\" \"ACTIVE\" \"ACTIVE\" ...\n",
      " $ COMPANY_CLASS                  : chr  \"Public\" \"Public\" \"Public\" \"Public\" ...\n",
      " $ COMPANY_CATEGORY               : chr  \"Company Limited by Shares\" \"Company Limited by Shares\" \"Company Limited by Shares\" \"Company Limited by Shares\" ...\n",
      " $  AUTHORIZED_CAPITAL            : chr  \"67,500,000.00\" \"17,000,000.00\" \"150,000,000.00\" \"60,000,000.00\" ...\n",
      " $  PAIDUP_CAPITAL                : chr  \"38,809,000.00\" \"7,000.00\" \"112,999,000.00\" \"52,960,000.00\" ...\n",
      " $ REGISTERED_STATE               : chr  \"Telangana\" \"Telangana\" \"Telangana\" \"Telangana\" ...\n",
      " $ REGISTRAR_OF_COMPANIES         : chr  \"RoC-Hyderabad\" \"RoC-Hyderabad\" \"RoC-Hyderabad\" \"RoC-Hyderabad\" ...\n",
      " $ PRINCIPAL_BUSINESS_ACTIVITY    : chr  \"Agriculture and Allied Activities\" \"Agriculture and Allied Activities\" \"Agriculture and Allied Activities\" \"Agriculture and Allied Activities\" ...\n",
      " $ REGISTERED_OFFICE_ADDRESS      : chr  \"H.No 7-180/4/2,Kamalanagar colony Kapra, ECIL X Roads   Hyderabad Telangana INDIA 500062\" \"12-45, SHAMSHABADRANGA REDDY DIST A.P.   A.P. Telangana INDIA  \" \"N N HOUSE, CHIRAG ALI LANEHYDERABAD A.P.   A.P. Telangana INDIA 500001\" \"Sy.No. 711-713, Lalgadi Malakpet (V),   Shamirpet Telangana INDIA 500078\" ...\n",
      " $ SUB_CATEGORY                   : chr  \"Indian Non-Government Company\" \"Indian Non-Government Company\" \"Indian Non-Government Company\" \"Indian Non-Government Company\" ...\n",
      " - attr(*, \".internal.selfref\")=<externalptr> \n"
     ]
    }
   ],
   "source": [
    "str(masterData)"
   ]
  },
  {
   "cell_type": "code",
   "execution_count": null,
   "metadata": {
    "collapsed": true
   },
   "outputs": [],
   "source": []
  }
 ],
 "metadata": {
  "kernelspec": {
   "display_name": "R",
   "language": "R",
   "name": "ir"
  },
  "language_info": {
   "codemirror_mode": "r",
   "file_extension": ".r",
   "mimetype": "text/x-r-source",
   "name": "R",
   "pygments_lexer": "r",
   "version": "3.4.1"
  }
 },
 "nbformat": 4,
 "nbformat_minor": 2
}
